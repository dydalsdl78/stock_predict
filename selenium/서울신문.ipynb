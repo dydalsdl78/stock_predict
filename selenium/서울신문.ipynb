{
 "cells": [
  {
   "cell_type": "code",
   "execution_count": 3,
   "metadata": {},
   "outputs": [
    {
     "ename": "WebDriverException",
     "evalue": "Message: chrome not reachable\n  (Session info: chrome=74.0.3729.131)\n  (Driver info: chromedriver=74.0.3729.6 (255758eccf3d244491b8a1317aa76e1ce10d57e9-refs/branch-heads/3729@{#29}),platform=Windows NT 10.0.17134 x86_64)\n",
     "output_type": "error",
     "traceback": [
      "\u001b[1;31m---------------------------------------------------------------------------\u001b[0m",
      "\u001b[1;31mWebDriverException\u001b[0m                        Traceback (most recent call last)",
      "\u001b[1;32m<ipython-input-3-f0864fe920c0>\u001b[0m in \u001b[0;36m<module>\u001b[1;34m()\u001b[0m\n\u001b[0;32m     59\u001b[0m \u001b[1;33m\u001b[0m\u001b[0m\n\u001b[0;32m     60\u001b[0m         \u001b[1;32mtry\u001b[0m\u001b[1;33m:\u001b[0m\u001b[1;33m\u001b[0m\u001b[0m\n\u001b[1;32m---> 61\u001b[1;33m             \u001b[0mContent_path\u001b[0m \u001b[1;33m=\u001b[0m \u001b[0mdriver\u001b[0m\u001b[1;33m.\u001b[0m\u001b[0mfind_element_by_xpath\u001b[0m\u001b[1;33m(\u001b[0m\u001b[1;34m\"\"\"//*[@id=\"atic_txt1\"]\"\"\"\u001b[0m\u001b[1;33m)\u001b[0m\u001b[1;33m\u001b[0m\u001b[0m\n\u001b[0m\u001b[0;32m     62\u001b[0m             \u001b[0mr\u001b[0m\u001b[1;33m=\u001b[0m\u001b[0mrandom\u001b[0m\u001b[1;33m.\u001b[0m\u001b[0mrandint\u001b[0m\u001b[1;33m(\u001b[0m\u001b[1;36m2\u001b[0m\u001b[1;33m,\u001b[0m\u001b[1;36m3\u001b[0m\u001b[1;33m)\u001b[0m\u001b[1;33m\u001b[0m\u001b[0m\n\u001b[0;32m     63\u001b[0m             \u001b[0mtime\u001b[0m\u001b[1;33m.\u001b[0m\u001b[0msleep\u001b[0m\u001b[1;33m(\u001b[0m\u001b[0mr\u001b[0m\u001b[1;33m)\u001b[0m\u001b[1;33m\u001b[0m\u001b[0m\n",
      "\u001b[1;32m~\\Anaconda3\\lib\\site-packages\\selenium\\webdriver\\remote\\webdriver.py\u001b[0m in \u001b[0;36mfind_element_by_xpath\u001b[1;34m(self, xpath)\u001b[0m\n\u001b[0;32m    392\u001b[0m             \u001b[0melement\u001b[0m \u001b[1;33m=\u001b[0m \u001b[0mdriver\u001b[0m\u001b[1;33m.\u001b[0m\u001b[0mfind_element_by_xpath\u001b[0m\u001b[1;33m(\u001b[0m\u001b[1;34m'//div/td[1]'\u001b[0m\u001b[1;33m)\u001b[0m\u001b[1;33m\u001b[0m\u001b[0m\n\u001b[0;32m    393\u001b[0m         \"\"\"\n\u001b[1;32m--> 394\u001b[1;33m         \u001b[1;32mreturn\u001b[0m \u001b[0mself\u001b[0m\u001b[1;33m.\u001b[0m\u001b[0mfind_element\u001b[0m\u001b[1;33m(\u001b[0m\u001b[0mby\u001b[0m\u001b[1;33m=\u001b[0m\u001b[0mBy\u001b[0m\u001b[1;33m.\u001b[0m\u001b[0mXPATH\u001b[0m\u001b[1;33m,\u001b[0m \u001b[0mvalue\u001b[0m\u001b[1;33m=\u001b[0m\u001b[0mxpath\u001b[0m\u001b[1;33m)\u001b[0m\u001b[1;33m\u001b[0m\u001b[0m\n\u001b[0m\u001b[0;32m    395\u001b[0m \u001b[1;33m\u001b[0m\u001b[0m\n\u001b[0;32m    396\u001b[0m     \u001b[1;32mdef\u001b[0m \u001b[0mfind_elements_by_xpath\u001b[0m\u001b[1;33m(\u001b[0m\u001b[0mself\u001b[0m\u001b[1;33m,\u001b[0m \u001b[0mxpath\u001b[0m\u001b[1;33m)\u001b[0m\u001b[1;33m:\u001b[0m\u001b[1;33m\u001b[0m\u001b[0m\n",
      "\u001b[1;32m~\\Anaconda3\\lib\\site-packages\\selenium\\webdriver\\remote\\webdriver.py\u001b[0m in \u001b[0;36mfind_element\u001b[1;34m(self, by, value)\u001b[0m\n\u001b[0;32m    976\u001b[0m         return self.execute(Command.FIND_ELEMENT, {\n\u001b[0;32m    977\u001b[0m             \u001b[1;34m'using'\u001b[0m\u001b[1;33m:\u001b[0m \u001b[0mby\u001b[0m\u001b[1;33m,\u001b[0m\u001b[1;33m\u001b[0m\u001b[0m\n\u001b[1;32m--> 978\u001b[1;33m             'value': value})['value']\n\u001b[0m\u001b[0;32m    979\u001b[0m \u001b[1;33m\u001b[0m\u001b[0m\n\u001b[0;32m    980\u001b[0m     \u001b[1;32mdef\u001b[0m \u001b[0mfind_elements\u001b[0m\u001b[1;33m(\u001b[0m\u001b[0mself\u001b[0m\u001b[1;33m,\u001b[0m \u001b[0mby\u001b[0m\u001b[1;33m=\u001b[0m\u001b[0mBy\u001b[0m\u001b[1;33m.\u001b[0m\u001b[0mID\u001b[0m\u001b[1;33m,\u001b[0m \u001b[0mvalue\u001b[0m\u001b[1;33m=\u001b[0m\u001b[1;32mNone\u001b[0m\u001b[1;33m)\u001b[0m\u001b[1;33m:\u001b[0m\u001b[1;33m\u001b[0m\u001b[0m\n",
      "\u001b[1;32m~\\Anaconda3\\lib\\site-packages\\selenium\\webdriver\\remote\\webdriver.py\u001b[0m in \u001b[0;36mexecute\u001b[1;34m(self, driver_command, params)\u001b[0m\n\u001b[0;32m    319\u001b[0m         \u001b[0mresponse\u001b[0m \u001b[1;33m=\u001b[0m \u001b[0mself\u001b[0m\u001b[1;33m.\u001b[0m\u001b[0mcommand_executor\u001b[0m\u001b[1;33m.\u001b[0m\u001b[0mexecute\u001b[0m\u001b[1;33m(\u001b[0m\u001b[0mdriver_command\u001b[0m\u001b[1;33m,\u001b[0m \u001b[0mparams\u001b[0m\u001b[1;33m)\u001b[0m\u001b[1;33m\u001b[0m\u001b[0m\n\u001b[0;32m    320\u001b[0m         \u001b[1;32mif\u001b[0m \u001b[0mresponse\u001b[0m\u001b[1;33m:\u001b[0m\u001b[1;33m\u001b[0m\u001b[0m\n\u001b[1;32m--> 321\u001b[1;33m             \u001b[0mself\u001b[0m\u001b[1;33m.\u001b[0m\u001b[0merror_handler\u001b[0m\u001b[1;33m.\u001b[0m\u001b[0mcheck_response\u001b[0m\u001b[1;33m(\u001b[0m\u001b[0mresponse\u001b[0m\u001b[1;33m)\u001b[0m\u001b[1;33m\u001b[0m\u001b[0m\n\u001b[0m\u001b[0;32m    322\u001b[0m             response['value'] = self._unwrap_value(\n\u001b[0;32m    323\u001b[0m                 response.get('value', None))\n",
      "\u001b[1;32m~\\Anaconda3\\lib\\site-packages\\selenium\\webdriver\\remote\\errorhandler.py\u001b[0m in \u001b[0;36mcheck_response\u001b[1;34m(self, response)\u001b[0m\n\u001b[0;32m    240\u001b[0m                 \u001b[0malert_text\u001b[0m \u001b[1;33m=\u001b[0m \u001b[0mvalue\u001b[0m\u001b[1;33m[\u001b[0m\u001b[1;34m'alert'\u001b[0m\u001b[1;33m]\u001b[0m\u001b[1;33m.\u001b[0m\u001b[0mget\u001b[0m\u001b[1;33m(\u001b[0m\u001b[1;34m'text'\u001b[0m\u001b[1;33m)\u001b[0m\u001b[1;33m\u001b[0m\u001b[0m\n\u001b[0;32m    241\u001b[0m             \u001b[1;32mraise\u001b[0m \u001b[0mexception_class\u001b[0m\u001b[1;33m(\u001b[0m\u001b[0mmessage\u001b[0m\u001b[1;33m,\u001b[0m \u001b[0mscreen\u001b[0m\u001b[1;33m,\u001b[0m \u001b[0mstacktrace\u001b[0m\u001b[1;33m,\u001b[0m \u001b[0malert_text\u001b[0m\u001b[1;33m)\u001b[0m\u001b[1;33m\u001b[0m\u001b[0m\n\u001b[1;32m--> 242\u001b[1;33m         \u001b[1;32mraise\u001b[0m \u001b[0mexception_class\u001b[0m\u001b[1;33m(\u001b[0m\u001b[0mmessage\u001b[0m\u001b[1;33m,\u001b[0m \u001b[0mscreen\u001b[0m\u001b[1;33m,\u001b[0m \u001b[0mstacktrace\u001b[0m\u001b[1;33m)\u001b[0m\u001b[1;33m\u001b[0m\u001b[0m\n\u001b[0m\u001b[0;32m    243\u001b[0m \u001b[1;33m\u001b[0m\u001b[0m\n\u001b[0;32m    244\u001b[0m     \u001b[1;32mdef\u001b[0m \u001b[0m_value_or_default\u001b[0m\u001b[1;33m(\u001b[0m\u001b[0mself\u001b[0m\u001b[1;33m,\u001b[0m \u001b[0mobj\u001b[0m\u001b[1;33m,\u001b[0m \u001b[0mkey\u001b[0m\u001b[1;33m,\u001b[0m \u001b[0mdefault\u001b[0m\u001b[1;33m)\u001b[0m\u001b[1;33m:\u001b[0m\u001b[1;33m\u001b[0m\u001b[0m\n",
      "\u001b[1;31mWebDriverException\u001b[0m: Message: chrome not reachable\n  (Session info: chrome=74.0.3729.131)\n  (Driver info: chromedriver=74.0.3729.6 (255758eccf3d244491b8a1317aa76e1ce10d57e9-refs/branch-heads/3729@{#29}),platform=Windows NT 10.0.17134 x86_64)\n"
     ]
    }
   ],
   "source": [
    "from selenium import webdriver\n",
    "from selenium.webdriver.chrome.options import Options\n",
    "import selenium.common.exceptions\n",
    "import time\n",
    "import random\n",
    "import re\n",
    "\n",
    "result = []\n",
    "\n",
    "options = Options()\n",
    "options.add_argument(\"--no-sandbox\")\n",
    "options.add_argument(\"--disable-setuid-sandbox\")\n",
    "driver = webdriver.Chrome('C:/Users/Kimyongmin/프로젝트/chromedriver.exe', options=options)\n",
    "\n",
    "url = \"https://search.naver.com/search.naver?&where=news&query=%EB%8C%80%ED%95%9C%ED%95%AD%EA%B3%B5&sm=tab_pge&sort=2&photo=0&field=0&reporter_article=&pd=3&ds=2014.05.01&de=2019.05.01&docid=&nso=so:da,p:from20140501to20190501,a:all&mynews=1&start={}1&refresh_start=0\"\n",
    "driver.get(url)\n",
    "\n",
    "driver.find_element_by_xpath(\"\"\"//*[@id=\"news_popup\"]/a\"\"\").click()\n",
    "driver.find_element_by_xpath(\"\"\"//*[@id=\"ca_1081\"]\"\"\").click()\n",
    "driver.find_element_by_xpath(\"\"\"//*[@id=\"_nx_option_media\"]/div[2]/div[3]/button[1]/span\"\"\").click()\n",
    "driver.find_element_by_xpath(\"\"\"//*[@id=\"nx_option_mson\"]\"\"\").click()\n",
    "\n",
    "\n",
    "for j in range(0, 10):\n",
    "    url = \"https://search.naver.com/search.naver?&where=news&query=%EB%8C%80%ED%95%9C%ED%95%AD%EA%B3%B5&sm=tab_pge&sort=2&photo=0&field=0&reporter_article=&pd=3&ds=2014.05.01&de=2019.05.01&docid=&nso=so:da,p:from20140501to20190501,a:all&mynews=1&start={}1&refresh_start=0\"\n",
    "    driver.get(url.format(j))\n",
    "    \n",
    "    \n",
    "    atag_list = driver.find_elements_by_xpath(\"\"\"//*[@class=\"type01\"]//dt/a\"\"\")\n",
    "    date_list = driver.find_elements_by_xpath(\"\"\"//*[@class=\"type01\"]//dd[1]\"\"\")\n",
    "    media_list = driver.find_elements_by_xpath(\"\"\"//*[@class=\"type01\"]//dd[1]/span[1]\"\"\")\n",
    "    \n",
    "    a_ls = []\n",
    "    d_ls = []\n",
    "    t_ls = []\n",
    "    m_ls = []\n",
    "    for i in range(0, len(atag_list)) :\n",
    "        a_ls.append(atag_list[i].get_attribute(\"href\"))\n",
    "        t_ls.append(atag_list[i].get_attribute(\"title\"))\n",
    "        d_ls.append(date_list[i].text)\n",
    "        m_ls.append(media_list[i].text)\n",
    "\n",
    "\n",
    "    for i in range(0, len(a_ls)) :\n",
    "        item_url = a_ls[i]\n",
    "        item_date = d_ls[i]\n",
    "        item_title = t_ls[i]\n",
    "        item_media = m_ls[i]\n",
    "        \n",
    "        driver.get(item_url)\n",
    "        r=random.randint(2,3)\n",
    "        time.sleep(r)\n",
    "        \n",
    "        p = re.compile('[0-9]+.[0-9]+.[0-9]+')\n",
    "        date_ls = p.findall(item_date)\n",
    "        date = ''.join(date_ls)\n",
    "        \n",
    "        \n",
    "        \n",
    "        try:\n",
    "            Content_path = driver.find_element_by_xpath(\"\"\"//*[@id=\"atic_txt1\"]\"\"\")\n",
    "            hangul = re.compile('[^ ㄱ-ㅣ가-힣a-zA-Z0-9.]+')\n",
    "            content=hangul.sub('', Content_path.text)\n",
    "            \n",
    "            result.append([item_media, date, item_title, item_url, content])\n",
    "\n",
    "            driver.back()\n",
    "            r=random.randint(2,3)\n",
    "            time.sleep(r)\n",
    "\n",
    "        except :\n",
    "            driver.back()\n",
    "            print(\"Selenium Common Eerror\")\n",
    "            pass"
   ]
  },
  {
   "cell_type": "code",
   "execution_count": 4,
   "metadata": {},
   "outputs": [
    {
     "data": {
      "text/plain": [
       "[['서울신문',\n",
       "  '2014.05.08',\n",
       "  '“유족들 충격 딛고 일상생활 돌아오게 돕고 싶어요”',\n",
       "  'http://www.seoul.co.kr/news/newsView.php?id=20140508021031',\n",
       "  '국가적 재난 희생자 분향소 17년간 기획설치운영 김영태 씨하루에 조문객 4만명을 맞느라 발이 퉁퉁 붓고 피투성이가 되지만 유가족들의 고통에 비할 바 아닙니다.  경기 안산시 화랑유원지에 설치된 세월호 사고 희생자 정부 합동분향소의 총괄본부장을 맡고 있는 장례전문가 김영태씨.1997년 대한항공 괌 추락 사고를 시작으로 2010년 천안함 침몰 지난 2월 경주 마우나리조트 체육관 붕괴 사고까지 대형 재난 이후 설치된 합동분향소에는 늘 장례전문가 김영태47씨가 있었다. 세월호 참사도 예외는 아니다. 안산시와 계약을 맺은 한 상조회사 소속으로 안산 화랑유원지 합동분향소의 설치운영기획 총괄본부장을 맡고 있다. 그는 세월호 사고가 발생한 지 22일째인데 조문객 수가 무려 44만명에 이를 정도라 특히 여직원들의 발이 붓고 피투성이가 됐지만 단원고 희생자 어머니 중 한 명도 우리 직원이라 남의 일 같지 않다고 말했다. 지난 주말부터 6일까지 이어진 연휴기간 조문객들이 몰리면서 800여명의 조문객들이 김씨의 안내에 따라 한 번에 여섯 줄을 서 단체 헌화하기도 했다. 김씨는 연로하신 분들은 희생자들을 친손자손녀처럼 느끼셔서 조문올 때마다 대성통곡을 하신다면서 간혹 힘에 겨워 쓰러지시는 분들도 있는데 장례지도사들이 가서 부축해 드린다고 말했다.1989년 장례업을 시작한 김씨는 20052010년 경북대 서라벌대 동국대 등에서 장례지도사를 양성하는 강의를 했다. 2010년 천안함 침몰 사고 당시 희생된 용사들의 넋을 기리는 합동분향소 설치를 자문했다. 김씨는 매번 분향소를 지키다 보니 우리 사회의 안전 시스템에 대한 심도 있는 점검이 절실하다고 느낀다면서 유가족이나 조문객들이 충격에서 벗어나 일상생활로 돌아갈 수 있도록 돕고 재난 관리의 중요성에 대한 국민의 공감대를 넓히는 데 조금이나마 도움이 되고 싶다고 덧붙였다.김씨는 최근 박근혜 대통령의 안산 합동분향소 방문 당시 연출 의혹에 휘말리기도 했다. 다른 노인들을 부축하던 것처럼 그날도 한 할머니의 곁에서 안내하다가 그 할머니가 박사모 회원으로 몰려 김씨도 원치 않게 얼굴이 알려진 것이다. 그는 희생자 가족인지 아닌지는 몰랐고 조문 오신 할머니를 동선에 따라 안내했는데 제단 끝까지 갔다가 돌아오는 박 대통령과 만난 게 오해를 샀다고 설명했다.글 사진 최훈진 기자 choigizaseoul.co.kr'],\n",
       " ['서울신문',\n",
       "  '2014.05.10',\n",
       "  '환율 하락세… 車 ‘울고’·항공 ‘웃고’',\n",
       "  'http://www.seoul.co.kr/news/newsView.php?id=20140510012010',\n",
       "  '원달러 환율 10원 떨어지면 현대기아차 매출 4000억원 대한항공은 840억원 외화평가익원달러 환율이 5년 9개월 만에 최저치인 1020원대까지 내려오면서 자동차 등 수출기업에 비상이 걸렸다. 세계 경제에 대한 불확실성이 여전한 가운데 수출 대기업은 채산성 악화를 우려하는 모습이다.  9일 현대기아차에 따르면 그룹 내부에서는 원달러 환율이 10원 떨어지면 현대와 기아차 매출이 연간 4000억원가량 줄어들 것으로 보고 있다. 현대차 고위관계자는 내부에선 업계 예상치의 2배 정도 매출 감소가 있을 것이란 분석이 나왔다면서 그렇지만 단기 변동 폭이 큰 만큼 당장 조치를 취하기보다 좀 더 지켜보자는 분위기라고 말했다. 올해 사업계획을 세우면서 평균 환율을 1050원 정도로 예상한 현대기아차그룹은 한마디로 초비상이다. 이미 기아차는 지난달부터 급격한 환율 변동에 대비하는 비상계획을 가동하고 있다. 최근 1분기 실적발표에서 박한우 기아차 최고재무책임자CFO는 원칙적으로는 판매 대수를 늘리고 원가를 절감하는 것이 가장 바람직하지만 선물환 헤지 등을 통해 수익성을 보완하는 방법도 검토 중이라고 밝혔다. 러시아 수출 비중이 30인 쌍용차 역시 우크라이나 사태에 따른 루블화의 가치가 폭락하면서 피해를 봤다. 원달러 환율을 1070원대로 추정했던 예상이 틀어지면서 쌍용차는 최근 올 해외 판매량 목표를 9만 1000대에서 8만1500대로 줄였다.전자업계도 상황을 예의 주시하고 있다. 휴대전화나 TV 등 가전제품 수출에서 얻는 수익 감소는 불가피하지만 부품 수입비가 줄어든다는 점에서 자동차 업계보다는 상황이 나은 편이다. 미래창조과학부 ICT수출입동향을 보면 지난해 전자부품 수입액은 489억 3900만 달러로 부품을 제외한 정보통신기기 완제품 수출액458억 3600만 달러보다 많다. 또 삼성전자와 LG전자 등은 세계 금융위기 이후 결제통화를 달러엔유로 등으로 다양화했다. 결제통화의 환율이 5까지 변할 수 있다는 점을 가정해 환헤지를 하는 등 환율 민감도도 크게 낮췄다. 업계 한 관계자는 수출 가격 경쟁력이 떨어지지만 부품 구매 비용은 줄어 득실이 상존한다며 환율이 매출에 미칠 영향을 점검 중이라고 말했다 반면 철강과 항공업계는 느긋한 편이다. 항공업계는 달러화로 비행기를 구입하거나 빌려오는 경우가 대부분이고 유류비도 결제하기 때문에 원화가치가 상승할수록 비용이 적게 든다. 물론 부채 감소 효과도 본다. 대한항공 관계자는 외화 부채가 약 84억 달러인 상황에서 원달러 환율이 10원 떨어지면 약 840억원의 외화평가 손익이 발생한다고 말했다. 원재료 구입비용이 사업 비용의 대부분을 차지하는 철강업계에도 원화가치 상승은 호재다. 전문가들은 떨어지는 환율의 변동 폭만큼 속도도 유의 깊게 지켜볼 대목이라고 지적한다. 오정근 아시아금융학회장은 환율이 1050원대에서 1020원대까지 떨어지는데 한 달이 채 안 걸렸다면서 이런 속도라면 아무리 환 헤지를 잘해도 하반기 우리 수출기업들은 실적에 영향을 받을 것이라고 말했다.유영규 기자 whoamiseoul.co.kr 김양진 기자 ky0295seoul.co.kr']]"
      ]
     },
     "execution_count": 4,
     "metadata": {},
     "output_type": "execute_result"
    }
   ],
   "source": [
    "result"
   ]
  },
  {
   "cell_type": "code",
   "execution_count": null,
   "metadata": {},
   "outputs": [],
   "source": []
  }
 ],
 "metadata": {
  "kernelspec": {
   "display_name": "Python 3",
   "language": "python",
   "name": "python3"
  },
  "language_info": {
   "codemirror_mode": {
    "name": "ipython",
    "version": 3
   },
   "file_extension": ".py",
   "mimetype": "text/x-python",
   "name": "python",
   "nbconvert_exporter": "python",
   "pygments_lexer": "ipython3",
   "version": "3.6.8"
  }
 },
 "nbformat": 4,
 "nbformat_minor": 2
}
