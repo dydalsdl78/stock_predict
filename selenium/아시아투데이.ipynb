{
 "cells": [
  {
   "cell_type": "code",
   "execution_count": 3,
   "metadata": {},
   "outputs": [
    {
     "ename": "WebDriverException",
     "evalue": "Message: chrome not reachable\n  (Session info: chrome=74.0.3729.131)\n  (Driver info: chromedriver=74.0.3729.6 (255758eccf3d244491b8a1317aa76e1ce10d57e9-refs/branch-heads/3729@{#29}),platform=Windows NT 10.0.17134 x86_64)\n",
     "output_type": "error",
     "traceback": [
      "\u001b[1;31m---------------------------------------------------------------------------\u001b[0m",
      "\u001b[1;31mWebDriverException\u001b[0m                        Traceback (most recent call last)",
      "\u001b[1;32m<ipython-input-3-a19dfe6c8864>\u001b[0m in \u001b[0;36m<module>\u001b[1;34m()\u001b[0m\n\u001b[0;32m     48\u001b[0m         \u001b[0mitem_media\u001b[0m \u001b[1;33m=\u001b[0m \u001b[0mm_ls\u001b[0m\u001b[1;33m[\u001b[0m\u001b[0mi\u001b[0m\u001b[1;33m]\u001b[0m\u001b[1;33m\u001b[0m\u001b[0m\n\u001b[0;32m     49\u001b[0m \u001b[1;33m\u001b[0m\u001b[0m\n\u001b[1;32m---> 50\u001b[1;33m         \u001b[0mdriver\u001b[0m\u001b[1;33m.\u001b[0m\u001b[0mget\u001b[0m\u001b[1;33m(\u001b[0m\u001b[0mitem_url\u001b[0m\u001b[1;33m)\u001b[0m\u001b[1;33m\u001b[0m\u001b[0m\n\u001b[0m\u001b[0;32m     51\u001b[0m         \u001b[0mr\u001b[0m\u001b[1;33m=\u001b[0m\u001b[0mrandom\u001b[0m\u001b[1;33m.\u001b[0m\u001b[0mrandint\u001b[0m\u001b[1;33m(\u001b[0m\u001b[1;36m2\u001b[0m\u001b[1;33m,\u001b[0m\u001b[1;36m3\u001b[0m\u001b[1;33m)\u001b[0m\u001b[1;33m\u001b[0m\u001b[0m\n\u001b[0;32m     52\u001b[0m         \u001b[0mtime\u001b[0m\u001b[1;33m.\u001b[0m\u001b[0msleep\u001b[0m\u001b[1;33m(\u001b[0m\u001b[0mr\u001b[0m\u001b[1;33m)\u001b[0m\u001b[1;33m\u001b[0m\u001b[0m\n",
      "\u001b[1;32m~\\Anaconda3\\lib\\site-packages\\selenium\\webdriver\\remote\\webdriver.py\u001b[0m in \u001b[0;36mget\u001b[1;34m(self, url)\u001b[0m\n\u001b[0;32m    331\u001b[0m         \u001b[0mLoads\u001b[0m \u001b[0ma\u001b[0m \u001b[0mweb\u001b[0m \u001b[0mpage\u001b[0m \u001b[1;32min\u001b[0m \u001b[0mthe\u001b[0m \u001b[0mcurrent\u001b[0m \u001b[0mbrowser\u001b[0m \u001b[0msession\u001b[0m\u001b[1;33m.\u001b[0m\u001b[1;33m\u001b[0m\u001b[0m\n\u001b[0;32m    332\u001b[0m         \"\"\"\n\u001b[1;32m--> 333\u001b[1;33m         \u001b[0mself\u001b[0m\u001b[1;33m.\u001b[0m\u001b[0mexecute\u001b[0m\u001b[1;33m(\u001b[0m\u001b[0mCommand\u001b[0m\u001b[1;33m.\u001b[0m\u001b[0mGET\u001b[0m\u001b[1;33m,\u001b[0m \u001b[1;33m{\u001b[0m\u001b[1;34m'url'\u001b[0m\u001b[1;33m:\u001b[0m \u001b[0murl\u001b[0m\u001b[1;33m}\u001b[0m\u001b[1;33m)\u001b[0m\u001b[1;33m\u001b[0m\u001b[0m\n\u001b[0m\u001b[0;32m    334\u001b[0m \u001b[1;33m\u001b[0m\u001b[0m\n\u001b[0;32m    335\u001b[0m     \u001b[1;33m@\u001b[0m\u001b[0mproperty\u001b[0m\u001b[1;33m\u001b[0m\u001b[0m\n",
      "\u001b[1;32m~\\Anaconda3\\lib\\site-packages\\selenium\\webdriver\\remote\\webdriver.py\u001b[0m in \u001b[0;36mexecute\u001b[1;34m(self, driver_command, params)\u001b[0m\n\u001b[0;32m    319\u001b[0m         \u001b[0mresponse\u001b[0m \u001b[1;33m=\u001b[0m \u001b[0mself\u001b[0m\u001b[1;33m.\u001b[0m\u001b[0mcommand_executor\u001b[0m\u001b[1;33m.\u001b[0m\u001b[0mexecute\u001b[0m\u001b[1;33m(\u001b[0m\u001b[0mdriver_command\u001b[0m\u001b[1;33m,\u001b[0m \u001b[0mparams\u001b[0m\u001b[1;33m)\u001b[0m\u001b[1;33m\u001b[0m\u001b[0m\n\u001b[0;32m    320\u001b[0m         \u001b[1;32mif\u001b[0m \u001b[0mresponse\u001b[0m\u001b[1;33m:\u001b[0m\u001b[1;33m\u001b[0m\u001b[0m\n\u001b[1;32m--> 321\u001b[1;33m             \u001b[0mself\u001b[0m\u001b[1;33m.\u001b[0m\u001b[0merror_handler\u001b[0m\u001b[1;33m.\u001b[0m\u001b[0mcheck_response\u001b[0m\u001b[1;33m(\u001b[0m\u001b[0mresponse\u001b[0m\u001b[1;33m)\u001b[0m\u001b[1;33m\u001b[0m\u001b[0m\n\u001b[0m\u001b[0;32m    322\u001b[0m             response['value'] = self._unwrap_value(\n\u001b[0;32m    323\u001b[0m                 response.get('value', None))\n",
      "\u001b[1;32m~\\Anaconda3\\lib\\site-packages\\selenium\\webdriver\\remote\\errorhandler.py\u001b[0m in \u001b[0;36mcheck_response\u001b[1;34m(self, response)\u001b[0m\n\u001b[0;32m    240\u001b[0m                 \u001b[0malert_text\u001b[0m \u001b[1;33m=\u001b[0m \u001b[0mvalue\u001b[0m\u001b[1;33m[\u001b[0m\u001b[1;34m'alert'\u001b[0m\u001b[1;33m]\u001b[0m\u001b[1;33m.\u001b[0m\u001b[0mget\u001b[0m\u001b[1;33m(\u001b[0m\u001b[1;34m'text'\u001b[0m\u001b[1;33m)\u001b[0m\u001b[1;33m\u001b[0m\u001b[0m\n\u001b[0;32m    241\u001b[0m             \u001b[1;32mraise\u001b[0m \u001b[0mexception_class\u001b[0m\u001b[1;33m(\u001b[0m\u001b[0mmessage\u001b[0m\u001b[1;33m,\u001b[0m \u001b[0mscreen\u001b[0m\u001b[1;33m,\u001b[0m \u001b[0mstacktrace\u001b[0m\u001b[1;33m,\u001b[0m \u001b[0malert_text\u001b[0m\u001b[1;33m)\u001b[0m\u001b[1;33m\u001b[0m\u001b[0m\n\u001b[1;32m--> 242\u001b[1;33m         \u001b[1;32mraise\u001b[0m \u001b[0mexception_class\u001b[0m\u001b[1;33m(\u001b[0m\u001b[0mmessage\u001b[0m\u001b[1;33m,\u001b[0m \u001b[0mscreen\u001b[0m\u001b[1;33m,\u001b[0m \u001b[0mstacktrace\u001b[0m\u001b[1;33m)\u001b[0m\u001b[1;33m\u001b[0m\u001b[0m\n\u001b[0m\u001b[0;32m    243\u001b[0m \u001b[1;33m\u001b[0m\u001b[0m\n\u001b[0;32m    244\u001b[0m     \u001b[1;32mdef\u001b[0m \u001b[0m_value_or_default\u001b[0m\u001b[1;33m(\u001b[0m\u001b[0mself\u001b[0m\u001b[1;33m,\u001b[0m \u001b[0mobj\u001b[0m\u001b[1;33m,\u001b[0m \u001b[0mkey\u001b[0m\u001b[1;33m,\u001b[0m \u001b[0mdefault\u001b[0m\u001b[1;33m)\u001b[0m\u001b[1;33m:\u001b[0m\u001b[1;33m\u001b[0m\u001b[0m\n",
      "\u001b[1;31mWebDriverException\u001b[0m: Message: chrome not reachable\n  (Session info: chrome=74.0.3729.131)\n  (Driver info: chromedriver=74.0.3729.6 (255758eccf3d244491b8a1317aa76e1ce10d57e9-refs/branch-heads/3729@{#29}),platform=Windows NT 10.0.17134 x86_64)\n"
     ]
    }
   ],
   "source": [
    "from selenium import webdriver\n",
    "from selenium.webdriver.chrome.options import Options\n",
    "import selenium.common.exceptions\n",
    "import time\n",
    "import random\n",
    "import re\n",
    "\n",
    "result = []\n",
    "\n",
    "options = Options()\n",
    "options.add_argument(\"--no-sandbox\")\n",
    "options.add_argument(\"--disable-setuid-sandbox\")\n",
    "driver = webdriver.Chrome('C:/Users/Kimyongmin/프로젝트/chromedriver.exe', options=options)\n",
    "\n",
    "url = \"https://search.naver.com/search.naver?&where=news&query=%EB%8C%80%ED%95%9C%ED%95%AD%EA%B3%B5&sm=tab_pge&sort=2&photo=0&field=0&reporter_article=&pd=3&ds=2014.05.01&de=2019.05.01&docid=&nso=so:da,p:from20140501to20190501,a:all&mynews=1&start={}1&refresh_start=0\"\n",
    "driver.get(url)\n",
    "\n",
    "driver.find_element_by_xpath(\"\"\"//*[@id=\"news_popup\"]/a\"\"\").click()\n",
    "driver.find_element_by_xpath(\"\"\"//*[@id=\"ca_2268\"]\"\"\").click()\n",
    "driver.find_element_by_xpath(\"\"\"//*[@id=\"_nx_option_media\"]/div[2]/div[3]/button[1]/span\"\"\").click()\n",
    "driver.find_element_by_xpath(\"\"\"//*[@id=\"nx_option_mson\"]\"\"\").click()\n",
    "\n",
    "\n",
    "for j in range(0, 10):\n",
    "    url = \"https://search.naver.com/search.naver?&where=news&query=%EB%8C%80%ED%95%9C%ED%95%AD%EA%B3%B5&sm=tab_pge&sort=2&photo=0&field=0&reporter_article=&pd=3&ds=2014.05.01&de=2019.05.01&docid=&nso=so:da,p:from20140501to20190501,a:all&mynews=1&start={}1&refresh_start=0\"\n",
    "    driver.get(url.format(j))\n",
    "    \n",
    "    \n",
    "    atag_list = driver.find_elements_by_xpath(\"\"\"//*[@class=\"type01\"]//dt/a\"\"\")\n",
    "    date_list = driver.find_elements_by_xpath(\"\"\"//*[@class=\"type01\"]//dd[1]\"\"\")\n",
    "    media_list = driver.find_elements_by_xpath(\"\"\"//*[@class=\"type01\"]//dd[1]/span[1]\"\"\")\n",
    "    \n",
    "    a_ls = []\n",
    "    d_ls = []\n",
    "    t_ls = []\n",
    "    m_ls = []\n",
    "    for i in range(0, len(atag_list)) :\n",
    "        a_ls.append(atag_list[i].get_attribute(\"href\"))\n",
    "        t_ls.append(atag_list[i].get_attribute(\"title\"))\n",
    "        d_ls.append(date_list[i].text)\n",
    "        m_ls.append(media_list[i].text)\n",
    "\n",
    "\n",
    "    for i in range(0, len(a_ls)) :\n",
    "        item_url = a_ls[i]\n",
    "        item_date = d_ls[i]\n",
    "        item_title = t_ls[i]\n",
    "        item_media = m_ls[i]\n",
    "        \n",
    "        driver.get(item_url)\n",
    "        r=random.randint(2,3)\n",
    "        time.sleep(r)\n",
    "        \n",
    "        p = re.compile('[0-9]+.[0-9]+.[0-9]+')\n",
    "        date_ls = p.findall(item_date)\n",
    "        date = ''.join(date_ls)\n",
    "        \n",
    "        \n",
    "        \n",
    "        try:\n",
    "            Content_path = driver.find_element_by_xpath(\"\"\"//*[@id=\"section_main\"]/div[1]/dl\"\"\")\n",
    "            hangul = re.compile('[^ ㄱ-ㅣ가-힣a-zA-Z0-9.]+')\n",
    "            content=hangul.sub('', Content_path.text)\n",
    "            \n",
    "            result.append([item_media, date, item_title, item_url, content])\n",
    "\n",
    "            driver.back()\n",
    "            r=random.randint(2,3)\n",
    "            time.sleep(r)\n",
    "\n",
    "        except :\n",
    "            driver.back()\n",
    "            print(\"Selenium Common Eerror\")\n",
    "            pass"
   ]
  },
  {
   "cell_type": "code",
   "execution_count": 4,
   "metadata": {},
   "outputs": [
    {
     "data": {
      "text/plain": [
       "[['아시아투데이',\n",
       "  '2014.05.02',\n",
       "  '인천공항 ~ 美 휴스턴, 직항노선 운항 개시',\n",
       "  'http://www.asiatoday.co.kr/view.php?key=20140502001234296',\n",
       "  '인천 박은영 기자  인천국제공항과 미국 휴스턴을 직접 연결하는 직항노선이 운항을 개시했다.  대한항공은 2일 오전 인천공항에서 인천휴스턴 직항 노선의 첫 운항 축하행사를 개최했다고 밝혔다.  대한항공은 이날부터 총 248석 규모의 B777200 항공기를 인천휴스턴 노선에 투입해 매일 운항한다.  그동안은 국내 항공사 중 휴스턴 직항 노선을 운항하는 항공사가 없어 휴스턴을 방문하려는 여행객들은 댈러스 등 미국 내 다른 도시를 경유해야만 했다.  이번 대한항공이 인천휴스턴 직항편을 새로이 개설하면서 여행객들이 보다 편리하게 휴스턴을 방문할 수 있게 됐다.  또한 휴스턴 공항에서는 중남미행 항공편 노선이 다양하게 연결돼 있어 멕시코와 브라질을 비롯한 중남미 국가로도 한층 편리하고 빠르게 이동할 수 있게 됐다.  휴스턴은 미국 텍사스 주에서 가장 큰 도시이자 미국 내에서 네 번째로 많은 210만 명의 인구가 살고 있는 지역이다.  현재 휴스턴에는 LG전자 삼성중공업 SK에너지 등 17개 국내 주요기업들이 진출해 있어 이번 직항노선 운항은 국내 기업의 글로벌 비즈니스 가교 역할도 할 전망이다.  인천공항공사 최홍열 사장직무대행은 인천공항은 앞으로도 항공사에 다양한 인센티브를 제공함으로써 신규 노선취항을 장려하고 이를 기반으로 허브공항으로서의 경쟁력을 강화해나갈 것이라고 밝혔다. 박은영 기자 sos6997empal.com인천공항젊은 파워 모바일 넘버원 아시아투데이댓글'],\n",
       " ['아시아투데이',\n",
       "  '2014.05.02',\n",
       "  '대한항공, 미국 휴스턴 신규취항 기념행사',\n",
       "  'http://www.asiatoday.co.kr/view.php?key=20140502001449453',\n",
       "  '2일 인천국제공항 국제선 청사 17번 출국장에서 지창훈 대한항공 총괄사장이 운항승무원에게 최홍열 인천국제공항공사 사장직무대행이 객실승무원에게 꽃다발을 전달하고 있다.대한항공은 2일 인천국제공항에서 지창훈 대한항공 총괄사장 최홍열 인천국제공항공사 사장직무대행 등이 참석한 가운데 인천미국 휴스턴 직항 신규취항 기념행사를 가졌다.대한항공 인천휴스턴 노선에는 총 248석 규모의 B777200 항공기가 투입돼 매일 운항된다.출발편은 오전 9시 10분 인천국제공항을 출발해 현지시간 오전 8시 30분 휴스턴 조지부시 국제공항에 도착한다.귀국편은 오전 10시 40분 휴스턴공항을 출발해 다음날 오후 3시 30분 인천공항에 도착한다.항공우주와 에너지 등 첨단산업과 문화시설이 발달한 휴스턴은 인구 600만명이 넘는 텍사스 주의 최대도시이자 미국에서 다섯 번째로 큰 도시다.미항공우주국NASA의 우주비행관제센터와 세계최대의 정유공업단지 등이 위치해 있으며 LG전자 삼성중공업 및 SK에너지 등 17개 국내 주요기업들이 진출해 활발한 활동을 벌이고 있어 항공 수요가 풍부한 편이다.그동안 국내 항공사 중 휴스턴 직항 노선을 운항하는 항공사가 없어 휴스턴을 방문하는 여행객은 댈러스 등 미국 내 다른 도시들을 경유해야 했다.이번 신규 직항편 취항으로 보다 편리하게 휴스턴을 방문할 수 있게 됐다고 사측은 전했다.인천  휴스턴 노선 취항에 따라 미주를 취항하는 대한항공 여객 노선은 뉴욕로스앤젤레스 상파울루 등을 비롯한 14개로 늘었다.2일 인천국제공항 국제선 청사 17번 출국장에서 지창훈 대한항공 총괄사장둘째 줄 왼쪽 다섯 번째 최홍열 인천국제공항공사 사장직무대행둘째 줄 왼쪽 여섯 번째과 운항객실 승무원 등 행사 관계자들이 기념사진을 찍고 있다.2일 인천국제공항 국제선 청사 17번 출국장에서 지창훈 대한항공 총괄사장왼쪽 다섯 번째 최홍열 인천국제공항공사 사장직무대행왼쪽 여섯 번째 등 행사 관계자들이 기념사진을 찍고 있다.이정필 기자 romanasiatoday.co.kr대한항공젊은 파워 모바일 넘버원 아시아투데이댓글']]"
      ]
     },
     "execution_count": 4,
     "metadata": {},
     "output_type": "execute_result"
    }
   ],
   "source": [
    "result"
   ]
  },
  {
   "cell_type": "code",
   "execution_count": null,
   "metadata": {},
   "outputs": [],
   "source": []
  }
 ],
 "metadata": {
  "kernelspec": {
   "display_name": "Python 3",
   "language": "python",
   "name": "python3"
  },
  "language_info": {
   "codemirror_mode": {
    "name": "ipython",
    "version": 3
   },
   "file_extension": ".py",
   "mimetype": "text/x-python",
   "name": "python",
   "nbconvert_exporter": "python",
   "pygments_lexer": "ipython3",
   "version": "3.6.8"
  }
 },
 "nbformat": 4,
 "nbformat_minor": 2
}
